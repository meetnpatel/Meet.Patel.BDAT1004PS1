{
  "nbformat": 4,
  "nbformat_minor": 0,
  "metadata": {
    "colab": {
      "name": "Problem set 1.ipynb",
      "provenance": [],
      "collapsed_sections": []
    },
    "kernelspec": {
      "name": "python3",
      "display_name": "Python 3"
    }
  },
  "cells": [
    {
      "cell_type": "markdown",
      "metadata": {
        "id": "cCJjcTWmAitS"
      },
      "source": [
        "# Problem Set 1"
      ]
    },
    {
      "cell_type": "code",
      "metadata": {
        "id": "g5nFcuPsAn_H"
      },
      "source": [
        "import math"
      ],
      "execution_count": null,
      "outputs": []
    },
    {
      "cell_type": "markdown",
      "metadata": {
        "id": "feEIKF19j_4A"
      },
      "source": [
        "###Question 1"
      ]
    },
    {
      "cell_type": "code",
      "metadata": {
        "id": "tHwhToenAwuY",
        "outputId": "fa16a8be-a48f-49eb-9977-9ab30a830446",
        "colab": {
          "base_uri": "https://localhost:8080/",
          "height": 221
        }
      },
      "source": [
        "Expressions = [5, 5.0, 5>1, '5', 5*2, '5'*2, '5'+'2', 5/2, 5//2, [5,1,1], 5 in [1,4,6], math.pi]\n",
        "\n",
        "for i in Expressions:\n",
        "  print(i,'->\\t',type(i))"
      ],
      "execution_count": 11,
      "outputs": [
        {
          "output_type": "stream",
          "text": [
            "5 ->\t <class 'int'>\n",
            "5.0 ->\t <class 'float'>\n",
            "True ->\t <class 'bool'>\n",
            "5 ->\t <class 'str'>\n",
            "10 ->\t <class 'int'>\n",
            "55 ->\t <class 'str'>\n",
            "52 ->\t <class 'str'>\n",
            "2.5 ->\t <class 'float'>\n",
            "2 ->\t <class 'int'>\n",
            "[5, 1, 1] ->\t <class 'list'>\n",
            "False ->\t <class 'bool'>\n",
            "3.141592653589793 ->\t <class 'float'>\n"
          ],
          "name": "stdout"
        }
      ]
    },
    {
      "cell_type": "markdown",
      "metadata": {
        "id": "vcWDEfvYtNbf"
      },
      "source": [
        "###Question 2"
      ]
    },
    {
      "cell_type": "markdown",
      "metadata": {
        "id": "R7qgDVbGtkse"
      },
      "source": [
        "####a)"
      ]
    },
    {
      "cell_type": "code",
      "metadata": {
        "id": "GBFcx-16BAnT",
        "outputId": "84fd96b8-5826-4d67-b65e-33d0c000913e",
        "colab": {
          "base_uri": "https://localhost:8080/",
          "height": 34
        }
      },
      "source": [
        "s = \"Supercalifragilisticexpialidocious\"\n",
        "print(f\"Number of letters:\", len(s))"
      ],
      "execution_count": null,
      "outputs": [
        {
          "output_type": "stream",
          "text": [
            "Number of letters: 34\n"
          ],
          "name": "stdout"
        }
      ]
    },
    {
      "cell_type": "markdown",
      "metadata": {
        "id": "6kEe3RIqttaX"
      },
      "source": [
        "####b)"
      ]
    },
    {
      "cell_type": "code",
      "metadata": {
        "id": "YA3JgNDRBPfj",
        "outputId": "54e915f2-592d-45a0-dbab-89e690a99299",
        "colab": {
          "base_uri": "https://localhost:8080/",
          "height": 34
        }
      },
      "source": [
        "if 'ice' in s:\n",
        "  print(\"ice is substring in\",s)"
      ],
      "execution_count": null,
      "outputs": [
        {
          "output_type": "stream",
          "text": [
            "ice is substring in Supercalifragilisticexpialidocious\n"
          ],
          "name": "stdout"
        }
      ]
    },
    {
      "cell_type": "markdown",
      "metadata": {
        "id": "kTLRRfOYvTz9"
      },
      "source": [
        "####c)"
      ]
    },
    {
      "cell_type": "code",
      "metadata": {
        "id": "2B4qvj2Ht4SE",
        "outputId": "2a1f6833-71d9-4d3b-84a3-a9cfdb4f446d",
        "colab": {
          "base_uri": "https://localhost:8080/",
          "height": 34
        }
      },
      "source": [
        "Words = ['Supercalifragilisticexpialidocious', 'Honorificabilitudinitatibus', 'Bababadalgharaghtakamminarronnkonn']\n",
        "Lengths = [len(i) for i in Words]\n",
        "MaxLength = max(Lengths)\n",
        "print('Biggest ->',Words[Lengths.index(MaxLength)])"
      ],
      "execution_count": null,
      "outputs": [
        {
          "output_type": "stream",
          "text": [
            "Biggest -> Supercalifragilisticexpialidocious\n"
          ],
          "name": "stdout"
        }
      ]
    },
    {
      "cell_type": "code",
      "metadata": {
        "id": "xWPoSSWL0Qvp",
        "outputId": "77829a44-e67f-43c4-ef52-39500505a345",
        "colab": {
          "base_uri": "https://localhost:8080/",
          "height": 34
        }
      },
      "source": [
        "'''\n",
        "# Find all longest words\n",
        "MaxLength = max(Lengths)\n",
        "Longest = [i for i, j in enumerate(Lengths) if j == MaxLength]\n",
        "print([Words[i] for i in Longest])\n",
        "'''"
      ],
      "execution_count": null,
      "outputs": [
        {
          "output_type": "stream",
          "text": [
            "['Supercalifragilisticexpialidocious', 'Bababadalgharaghtakamminarronnkonn']\n"
          ],
          "name": "stdout"
        }
      ]
    },
    {
      "cell_type": "markdown",
      "metadata": {
        "id": "mh_SQhYDRuQh"
      },
      "source": [
        "####d)"
      ]
    },
    {
      "cell_type": "code",
      "metadata": {
        "id": "I8AlvsUWRtRy",
        "outputId": "6fb94cb5-8b44-44e7-d62a-d39b91ba1781",
        "colab": {
          "base_uri": "https://localhost:8080/",
          "height": 51
        }
      },
      "source": [
        "Composers = [ 'Berlioz', 'Borodin', 'Brian', 'Bartok', 'Bellini', 'Buxtehude', 'Bernstein']\n",
        "print('First in Dictionary:', min(Composers))\n",
        "print('Last in Dictionary:', max(Composers))"
      ],
      "execution_count": null,
      "outputs": [
        {
          "output_type": "stream",
          "text": [
            "First in Dictionary: Bartok\n",
            "Last in Dictionary: Buxtehude\n"
          ],
          "name": "stdout"
        }
      ]
    },
    {
      "cell_type": "markdown",
      "metadata": {
        "id": "WYn5dbchowmH"
      },
      "source": [
        "###Question 3"
      ]
    },
    {
      "cell_type": "markdown",
      "metadata": {
        "id": "00yzsYYFo9EY"
      },
      "source": [
        "####a)"
      ]
    },
    {
      "cell_type": "code",
      "metadata": {
        "id": "nZzk1b9Qo113",
        "outputId": "64409b87-379a-4235-911b-ab8a525d906c",
        "colab": {
          "base_uri": "https://localhost:8080/",
          "height": 51
        }
      },
      "source": [
        "def inside(x,y,x1,y1,x2,y2):\n",
        "  if x>x1 and x<x2 and y>y1 and y<y2:\n",
        "    return True\n",
        "  else: return False\n",
        "\n",
        "print(inside(1,1,0.3, 0.5, 1.1, 0.7))\n",
        "print(inside(1, 1, 0.5, 0.2, 1.1, 2))"
      ],
      "execution_count": null,
      "outputs": [
        {
          "output_type": "stream",
          "text": [
            "False\n",
            "True\n"
          ],
          "name": "stdout"
        }
      ]
    },
    {
      "cell_type": "markdown",
      "metadata": {
        "id": "pLzsq5BKx1ih"
      },
      "source": [
        "####d)"
      ]
    },
    {
      "cell_type": "code",
      "metadata": {
        "id": "TYiwe6dBx2yF",
        "outputId": "19020684-93de-4f6e-a0d0-fcfc1023a483",
        "colab": {
          "base_uri": "https://localhost:8080/",
          "height": 34
        }
      },
      "source": [
        "if inside(1,1,0.3, 0.5, 1.1, 0.7) and inside(1, 1, 0.5, 0.2, 1.1, 2):\n",
        "  print(\"Lies in both\")\n",
        "else: print(\"Doesn't lie in both\")"
      ],
      "execution_count": null,
      "outputs": [
        {
          "output_type": "stream",
          "text": [
            "Doesn't lie in both\n"
          ],
          "name": "stdout"
        }
      ]
    },
    {
      "cell_type": "markdown",
      "metadata": {
        "id": "zG9-ph8MCRGE"
      },
      "source": [
        "###Question 4"
      ]
    },
    {
      "cell_type": "code",
      "metadata": {
        "id": "pWqjfwyECQGX",
        "outputId": "231826be-9aa9-4023-d8bd-3b44205caaa1",
        "colab": {
          "base_uri": "https://localhost:8080/",
          "height": 51
        }
      },
      "source": [
        "def pig(word):\n",
        "  vowels = ['a', 'e', 'i', 'o', 'u']\n",
        "  word = word.lower()\n",
        "  if word[0] in vowels:\n",
        "    return word+'way'\n",
        "  else:\n",
        "    firstLetter, word = (word[0], word[1:])\n",
        "    return word + firstLetter + 'ay'\n",
        "\n",
        "print(pig('League'))\n",
        "print(pig('Angel'))"
      ],
      "execution_count": null,
      "outputs": [
        {
          "output_type": "stream",
          "text": [
            "eaguelay\n",
            "angelway\n"
          ],
          "name": "stdout"
        }
      ]
    },
    {
      "cell_type": "markdown",
      "metadata": {
        "id": "O45kiwnijKoK"
      },
      "source": [
        "###Question 5"
      ]
    },
    {
      "cell_type": "code",
      "metadata": {
        "id": "_EiSfvIZDkEH",
        "outputId": "ea6545cf-16ff-4cc5-8d25-2cd9e368ffcc",
        "colab": {
          "base_uri": "https://localhost:8080/",
          "height": 85
        }
      },
      "source": [
        "def bldcount(file):\n",
        "    bloodTypes = []\n",
        "    typeCounts = []\n",
        "    f = open(file,'r')\n",
        "    contentList = f.readlines()                   # Reading all lines\n",
        "    contentList = contentList[0][:-2].split(\" \")  # Splitting data by space and removing newline character from last\n",
        "    bloodTypes = list(set(contentList))           # Getting unique values with set()\n",
        "\n",
        "    for i in bloodTypes:                          # Making count list of each bloodtype\n",
        "        count = contentList.count(i)\n",
        "        typeCounts.append(count)\n",
        "    for i in range(len(bloodTypes)):              # Reporting Bloodtype counts of each type\n",
        "        if typeCounts[i] == 0:\n",
        "            print(\"There are {} patients of blood type {}.\".format(\"no\", bloodTypes[i]))\n",
        "        elif typeCounts[i] == 1:\n",
        "            print(\"There is {} patients of blood type {}.\".format(\"one\", bloodTypes[i]))\n",
        "        else:\n",
        "            print(\"There are {} patients of blood type {}.\".format(typeCounts[i], bloodTypes[i]))\n",
        "    f.close()\n",
        "\n",
        "\n",
        "bldcount(\"bloodtype1.txt\")"
      ],
      "execution_count": 29,
      "outputs": [
        {
          "output_type": "stream",
          "text": [
            "There are 15 patients of blood type A.\n",
            "There are 13 patients of blood type AB.\n",
            "There is one patients of blood type B.\n",
            "There are 15 patients of blood type O.\n"
          ],
          "name": "stdout"
        }
      ]
    },
    {
      "cell_type": "markdown",
      "metadata": {
        "id": "KniBmpBLzJYP"
      },
      "source": [
        "###Question 6"
      ]
    },
    {
      "cell_type": "code",
      "metadata": {
        "id": "FRp7CgPvzMJU",
        "outputId": "b7bbb1a9-be2a-4e79-8a3c-b7d4f97dbaf3",
        "colab": {
          "base_uri": "https://localhost:8080/",
          "height": 51
        }
      },
      "source": [
        "def curConv(cur, amount):\n",
        "    Rates = {}\n",
        "    file = \"currencies.txt\"\n",
        "    with open(file,'r') as f:\n",
        "        content = f.readlines()\n",
        "    for i in range(len(content)):                      # Preparing Dictionary with country codes as keys and rate as value\n",
        "        content[i] = content[i].split(\"\\t\")\n",
        "        Rates[content[i][0]] = float(content[i][1])\n",
        "    print(Rates[cur]*amount)                           # Printing amount*rate for converted amount in USD\n",
        "\n",
        "curConv('EUR', 1000)\n",
        "curConv('JPY', 5000)"
      ],
      "execution_count": 83,
      "outputs": [
        {
          "output_type": "stream",
          "text": [
            "1229.6544000000001\n",
            "62.070049999999995\n"
          ],
          "name": "stdout"
        }
      ]
    },
    {
      "cell_type": "markdown",
      "metadata": {
        "id": "ByL-2YJgWEzM"
      },
      "source": [
        "###Question 7"
      ]
    },
    {
      "cell_type": "code",
      "metadata": {
        "id": "tGNpyWoTWHvo"
      },
      "source": [
        "import math\n",
        "l = list(range(10))\n",
        "\n",
        "#print(6 + ‘a’)           #  SyntaxError\n",
        "\n",
        "#print(l[12])             #  IndexError\n",
        "\n",
        "#print(math.sqrt(-10.0))  #  ValueError\n",
        "\n",
        "#print(undef_var)         #  NameError\n",
        "\n",
        "#f = open(\"no_file.txt\")  #  FileNotFoundError"
      ],
      "execution_count": 78,
      "outputs": []
    },
    {
      "cell_type": "markdown",
      "metadata": {
        "id": "5ZNLKuxIYbib"
      },
      "source": [
        "###Question 8"
      ]
    },
    {
      "cell_type": "code",
      "metadata": {
        "id": "j-Jp66NGYUf1",
        "outputId": "519a03d2-e022-4552-f28d-dc1cb0d68f86",
        "colab": {
          "base_uri": "https://localhost:8080/",
          "height": 34
        }
      },
      "source": [
        "def frequencies(string):\n",
        "    letters = 'abcdefghijklmnopqrstuvwxyz'\n",
        "    letters = list(letters)\n",
        "    freq = []                                           # List to store letter counts for each letter\n",
        "\n",
        "    for i in letters:\n",
        "        freq.append(string.count(i))                    # countingand appending count of each letter in string\n",
        "    return freq\n",
        "\n",
        "print(frequencies(\"The quick brown fox jumps over the lazy dog\"))"
      ],
      "execution_count": 90,
      "outputs": [
        {
          "output_type": "stream",
          "text": [
            "[1, 1, 1, 1, 3, 1, 1, 2, 1, 1, 1, 1, 1, 1, 4, 1, 1, 2, 1, 1, 2, 1, 1, 1, 1, 1]\n"
          ],
          "name": "stdout"
        }
      ]
    },
    {
      "cell_type": "markdown",
      "metadata": {
        "id": "7DdINT2FbWCb"
      },
      "source": [
        "###Question 9"
      ]
    },
    {
      "cell_type": "code",
      "metadata": {
        "id": "JwkQJ52NbXnk",
        "outputId": "96d15704-94ce-4b2b-acad-87e76dada545",
        "colab": {
          "base_uri": "https://localhost:8080/",
          "height": 34
        }
      },
      "source": [
        "def sieve(num):\n",
        "    primeL = []\n",
        "    fs = 0                        # First Number in the numList list\n",
        "    numList = list(range(2,num))\n",
        "\n",
        "    while(True):\n",
        "        numListTemp = []\n",
        "        primeL.append(numList[0])\n",
        "        fs = numList[0]\n",
        "\n",
        "        for i in numList:\n",
        "            if i%fs == 0:         # Check Divisibility\n",
        "                numListTemp.append(i)\n",
        "        numList = [i for i in numList if i not in numListTemp]      # Get intersection of 2 lists, a way to remove multiples\n",
        "                                                                    # https://stackoverflow.com/questions/4211209/remove-all-the-elements-that-occur-in-one-list-from-another\n",
        "\n",
        "        if len(numList) == 0:     # Run till length of list numList becomes 0\n",
        "            return primeL\n",
        "\n",
        "\n",
        "print(sieve(50))"
      ],
      "execution_count": 3,
      "outputs": [
        {
          "output_type": "stream",
          "text": [
            "[2, 3, 5, 7, 11, 13, 17, 19, 23, 29, 31, 37, 41, 43, 47]\n"
          ],
          "name": "stdout"
        }
      ]
    },
    {
      "cell_type": "markdown",
      "metadata": {
        "id": "vNxzDa52sg5e"
      },
      "source": [
        "###Question 10"
      ]
    },
    {
      "cell_type": "code",
      "metadata": {
        "id": "ZHfqttEfskPM",
        "outputId": "8033b480-8221-4f25-9a95-284583b7d7b6",
        "colab": {
          "base_uri": "https://localhost:8080/",
          "height": 34
        }
      },
      "source": [
        "import math\n",
        "\n",
        "def triangleArea(a,b,c):\n",
        "    s = (a+b+c)/2\n",
        "    area = math.sqrt(s*(s - a)*(s -b)*(s -c))\n",
        "    return area\n",
        "\n",
        "triangleArea(4,8,5)"
      ],
      "execution_count": 8,
      "outputs": [
        {
          "output_type": "execute_result",
          "data": {
            "text/plain": [
              "8.181534085976786"
            ]
          },
          "metadata": {
            "tags": []
          },
          "execution_count": 8
        }
      ]
    }
  ]
}