{
  "nbformat": 4,
  "nbformat_minor": 0,
  "metadata": {
    "colab": {
      "name": "Problem set 1.ipynb",
      "provenance": [],
      "collapsed_sections": []
    },
    "kernelspec": {
      "name": "python3",
      "display_name": "Python 3"
    }
  },
  "cells": [
    {
      "cell_type": "markdown",
      "metadata": {
        "id": "cCJjcTWmAitS"
      },
      "source": [
        "# Problem Set 1"
      ]
    },
    {
      "cell_type": "code",
      "metadata": {
        "id": "g5nFcuPsAn_H"
      },
      "source": [
        "import math"
      ],
      "execution_count": null,
      "outputs": []
    },
    {
      "cell_type": "markdown",
      "metadata": {
        "id": "feEIKF19j_4A"
      },
      "source": [
        "###Question 1\n",
        "#####What data type is each of the following?"
      ]
    },
    {
      "cell_type": "markdown",
      "metadata": {
        "id": "mZdnJ5MH_D3e"
      },
      "source": [
        "|Expressions| DataType|\n",
        "|-----------|---------|\n",
        "|5|Int|\n",
        "| 5.0 |Float|\n",
        "| 5>1 |Boolean|\n",
        "|'5'|Str|\n",
        "|5*2|Int|\n",
        "|'5'*2|Str|\n",
        "|'5'+'2'|Str|\n",
        "|5/2|Float|\n",
        "|5//2|Int|\n",
        "|[5,1,1]|List|\n",
        "|5 in [1,4,6]| Boolean|\n",
        "|math.pi|Float|"
      ]
    },
    {
      "cell_type": "code",
      "metadata": {
        "id": "tHwhToenAwuY"
      },
      "source": [
        "\"\"\"\n",
        "Expressions = [5, 5.0, 5>1, '5', 5*2, '5'*2, '5'+'2', 5/2, 5//2, [5,1,1], 5 in [1,4,6], math.pi]\n",
        "\n",
        "for i in Expressions:\n",
        "  print(i,'->\\t',type(i))     # Print type of data in for loop\n",
        "\"\"\""
      ],
      "execution_count": null,
      "outputs": []
    },
    {
      "cell_type": "markdown",
      "metadata": {
        "id": "vcWDEfvYtNbf"
      },
      "source": [
        "###Question 2\n",
        "#####Write (and evaluate) Python expressions that answer these questions:"
      ]
    },
    {
      "cell_type": "markdown",
      "metadata": {
        "id": "R7qgDVbGtkse"
      },
      "source": [
        "#####a) How many letters are there in 'Supercalifragilisticexpialidocious'?"
      ]
    },
    {
      "cell_type": "code",
      "metadata": {
        "id": "GBFcx-16BAnT",
        "outputId": "3455a1bb-c00a-49f7-a776-f2154836cedd",
        "colab": {
          "base_uri": "https://localhost:8080/",
          "height": 34
        }
      },
      "source": [
        "s = \"Supercalifragilisticexpialidocious\"\n",
        "print(f\"Number of letters:\", len(s))"
      ],
      "execution_count": null,
      "outputs": [
        {
          "output_type": "stream",
          "text": [
            "Number of letters: 34\n"
          ],
          "name": "stdout"
        }
      ]
    },
    {
      "cell_type": "markdown",
      "metadata": {
        "id": "6kEe3RIqttaX"
      },
      "source": [
        "#####b) Does 'Supercalifragilisticexpialidocious' contain 'ice' as a substring? "
      ]
    },
    {
      "cell_type": "code",
      "metadata": {
        "id": "YA3JgNDRBPfj",
        "outputId": "98ce41a6-6681-4eef-cee0-d32fc4491125",
        "colab": {
          "base_uri": "https://localhost:8080/",
          "height": 34
        }
      },
      "source": [
        "if 'ice' in s:                    # Check substring presence using 'in' membership operator\n",
        "  print(\"ice is substring in\",s)"
      ],
      "execution_count": null,
      "outputs": [
        {
          "output_type": "stream",
          "text": [
            "ice is substring in Supercalifragilisticexpialidocious\n"
          ],
          "name": "stdout"
        }
      ]
    },
    {
      "cell_type": "markdown",
      "metadata": {
        "id": "kTLRRfOYvTz9"
      },
      "source": [
        "#####c) Which of the following words is the longest: Supercalifragilisticexpialidocious, Honorificabilitudinitatibus, or Bababadalgharaghtakamminarronnkonn?"
      ]
    },
    {
      "cell_type": "code",
      "metadata": {
        "id": "2B4qvj2Ht4SE",
        "outputId": "5069b817-340a-4a72-f87b-7327d25bfda9",
        "colab": {
          "base_uri": "https://localhost:8080/",
          "height": 34
        }
      },
      "source": [
        "Words = ['Supercalifragilisticexpialidocious', 'Honorificabilitudinitatibus', 'Bababadalgharaghtakamminarronnkonn']\n",
        "Lengths = [len(i) for i in Words]                         # Using list comprehension\n",
        "MaxLength = max(Lengths)\n",
        "print('Biggest ->',Words[Lengths.index(MaxLength)])       # Finding index of max length in list of lengths\n",
        "                                                          # and using to print the word"
      ],
      "execution_count": null,
      "outputs": [
        {
          "output_type": "stream",
          "text": [
            "Biggest -> Supercalifragilisticexpialidocious\n"
          ],
          "name": "stdout"
        }
      ]
    },
    {
      "cell_type": "code",
      "metadata": {
        "id": "xWPoSSWL0Qvp"
      },
      "source": [
        "'''\n",
        "# Find all longest words\n",
        "MaxLength = max(Lengths)\n",
        "Longest = [i for i, j in enumerate(Lengths) if j == MaxLength]    # Getting indices of longest words\n",
        "print([Words[i] for i in Longest])\n",
        "'''"
      ],
      "execution_count": null,
      "outputs": []
    },
    {
      "cell_type": "markdown",
      "metadata": {
        "id": "mh_SQhYDRuQh"
      },
      "source": [
        "#####d) Which composer comes first in the dictionary: 'Berlioz', 'Borodin', 'Brian', 'Bartok', 'Bellini', 'Buxtehude', 'Bernstein'. Which one comes last?\n"
      ]
    },
    {
      "cell_type": "code",
      "metadata": {
        "id": "I8AlvsUWRtRy",
        "outputId": "3c8b9990-3cf3-40b8-c469-be005c3c6d90",
        "colab": {
          "base_uri": "https://localhost:8080/",
          "height": 51
        }
      },
      "source": [
        "Composers = [ 'Berlioz', 'Borodin', 'Brian', 'Bartok', 'Bellini', 'Buxtehude', 'Bernstein']\n",
        "print('First in Dictionary:', min(Composers))       # min() gives lowest according to alphabetical order\n",
        "print('Last in Dictionary:', max(Composers))        # max() gives highest in order in similar way "
      ],
      "execution_count": null,
      "outputs": [
        {
          "output_type": "stream",
          "text": [
            "First in Dictionary: Bartok\n",
            "Last in Dictionary: Buxtehude\n"
          ],
          "name": "stdout"
        }
      ]
    },
    {
      "cell_type": "markdown",
      "metadata": {
        "id": "WYn5dbchowmH"
      },
      "source": [
        "###Question 3"
      ]
    },
    {
      "cell_type": "markdown",
      "metadata": {
        "id": "00yzsYYFo9EY"
      },
      "source": [
        "####a)\n",
        "#####Write a function inside(x,y,x1,y1,x2,y2) that returns True or False depending on whether the point (x,y) lies in the rectangle with lower left corner (x1,y1) and upper right corner (x2,y2).\n"
      ]
    },
    {
      "cell_type": "code",
      "metadata": {
        "id": "nZzk1b9Qo113",
        "outputId": "4c9e5a13-a73b-4a48-a840-d376013148b3",
        "colab": {
          "base_uri": "https://localhost:8080/",
          "height": 51
        }
      },
      "source": [
        "def inside(x,y,x1,y1,x2,y2):\n",
        "  if x>x1 and x<x2 and y>y1 and y<y2:\n",
        "    return True\n",
        "  else: return False\n",
        "\n",
        "print(inside(1,1,0.3, 0.5, 1.1, 0.7))\n",
        "print(inside(1, 1, 0.5, 0.2, 1.1, 2))"
      ],
      "execution_count": null,
      "outputs": [
        {
          "output_type": "stream",
          "text": [
            "False\n",
            "True\n"
          ],
          "name": "stdout"
        }
      ]
    },
    {
      "cell_type": "markdown",
      "metadata": {
        "id": "pLzsq5BKx1ih"
      },
      "source": [
        "####b)\n",
        "#####Use function inside() from part a. to write an expression that tests whether the point (1,1) lies in both of the following rectangles: one with lower left corner (0.3, 0.5) and upper right corner (1.1, 0.7) and the other with lower left corner (0.5, 0.2) and upper right corner (1.1, 2)."
      ]
    },
    {
      "cell_type": "code",
      "metadata": {
        "id": "TYiwe6dBx2yF",
        "outputId": "8a775c37-dbbd-4387-cedf-ccb670c2a4c9",
        "colab": {
          "base_uri": "https://localhost:8080/",
          "height": 34
        }
      },
      "source": [
        "if inside(1,1,0.3, 0.5, 1.1, 0.7) and inside(1, 1, 0.5, 0.2, 1.1, 2):\n",
        "  print(\"Lies in both\")\n",
        "else: print(\"Doesn't lie in both\")"
      ],
      "execution_count": null,
      "outputs": [
        {
          "output_type": "stream",
          "text": [
            "Doesn't lie in both\n"
          ],
          "name": "stdout"
        }
      ]
    },
    {
      "cell_type": "markdown",
      "metadata": {
        "id": "zG9-ph8MCRGE"
      },
      "source": [
        "###Question 4\n",
        "#####You can turn a word into pig-Latin using the following two rules (simplified):\n",
        "\n",
        "#####• If the word starts with a consonant, move that letter to the end and append 'ay'. For example, 'happy' becomes 'appyhay' and 'pencil' becomes 'encilpay'.\n",
        "\n",
        "#####• If the word starts with a vowel, simply append 'way' to the end of the word.\n",
        "\n",
        "#####For example, 'enter' becomes 'enterway' and 'other' becomes 'otherway' . For our purposes, there are 5 vowels: a, e, i, o, u (so we count y as a consonant). Write a function pig() that takes a word (i.e., a string) as input and returns its pigLatin form. Your function should still work if the input word contains upper case characters. Your output should always be lower case however."
      ]
    },
    {
      "cell_type": "code",
      "metadata": {
        "id": "pWqjfwyECQGX",
        "outputId": "cbc6cb9b-be3f-4673-fe41-4ef89127a56e",
        "colab": {
          "base_uri": "https://localhost:8080/",
          "height": 51
        }
      },
      "source": [
        "def pig(word):\n",
        "  vowels = ['a', 'e', 'i', 'o', 'u']\n",
        "  word = word.lower()\n",
        "  if word[0] in vowels:\n",
        "    return word+'way'\n",
        "  else:\n",
        "    firstLetter, word = (word[0], word[1:])       # Disassembling word for parts of it\n",
        "    return word + firstLetter + 'ay'              # Rearrenging them\n",
        "\n",
        "print(pig('League'))\n",
        "print(pig('Angel'))"
      ],
      "execution_count": null,
      "outputs": [
        {
          "output_type": "stream",
          "text": [
            "eaguelay\n",
            "angelway\n"
          ],
          "name": "stdout"
        }
      ]
    },
    {
      "cell_type": "markdown",
      "metadata": {
        "id": "O45kiwnijKoK"
      },
      "source": [
        "###Question 5\n",
        "#####File bloodtype1.txt records blood-types of patients (A, B, AB, O or OO) at a clinic. Write a function bldcount() that reads the file with name name and reports (i.e., prints) how many patients there are in each bloodtype."
      ]
    },
    {
      "cell_type": "code",
      "metadata": {
        "id": "_EiSfvIZDkEH",
        "outputId": "d3c972d3-54e5-4841-995a-68fc1a735ec8",
        "colab": {
          "base_uri": "https://localhost:8080/",
          "height": 102
        }
      },
      "source": [
        "def bldcount(filename):\n",
        "    Count = {}\n",
        "    file = open(filename)\n",
        "    tempData = file.readline()\n",
        "    file.close()\n",
        "    tempData = tempData[:-2].split(\" \")        # Splitting data by space and removing newline character from last\n",
        "    tempCount = list(set(tempData))               # Getting unique values with set()\n",
        "    tempCount.append(\"OO\")\n",
        "    tempCount.sort()\n",
        "\n",
        "    for i in tempCount:                           # Making dictionary for storing count of each type\n",
        "        Count[i] = tempData.count(i)\n",
        "\n",
        "    for i,j in Count.items():                     # Reporting Blood counts of each type\n",
        "        if j == 0:\n",
        "            print(\"There are {} patient of blood type {}.\".format(\"no\", i))\n",
        "        elif j == 1:\n",
        "            print(\"There is {} patients of blood type {}.\".format(\"one\", i))\n",
        "        else:\n",
        "            print(\"There are {} patients of blood type {}.\".format(j, i))\n",
        "\n",
        "\n",
        "bldcount(\"bloodtype1.txt\")"
      ],
      "execution_count": 53,
      "outputs": [
        {
          "output_type": "stream",
          "text": [
            "There are 15 patients of blood type A.\n",
            "There are 13 patients of blood type AB.\n",
            "There is one patients of blood type B.\n",
            "There are 15 patients of blood type O.\n",
            "There are no patient of blood type OO.\n"
          ],
          "name": "stdout"
        }
      ]
    },
    {
      "cell_type": "markdown",
      "metadata": {
        "id": "KniBmpBLzJYP"
      },
      "source": [
        "###Question 6\n",
        "#####Write a function curconv() that takes as input:\n",
        "#####1. a currency represented using a string (e.g., 'JPY' for the Japanese Yen or 'EUR' for the Euro)\n",
        "#####2. an amount\n",
        "\n",
        "#####and then converts and returns the amount in US dollars."
      ]
    },
    {
      "cell_type": "code",
      "metadata": {
        "id": "FRp7CgPvzMJU",
        "outputId": "e27ddbf0-9e47-4a10-e770-ed94ae11ec85",
        "colab": {
          "base_uri": "https://localhost:8080/",
          "height": 51
        }
      },
      "source": [
        "def curConv(cur, amount):\n",
        "    Rates = {}\n",
        "    file = \"currencies.txt\"\n",
        "    with open(file,'r') as f:\n",
        "        content = f.readlines()\n",
        "    for i in range(len(content)):                      # Preparing Dictionary with country codes as keys and rate as value\n",
        "        content[i] = content[i].split(\"\\t\")\n",
        "        Rates[content[i][0]] = float(content[i][1])\n",
        "    print(Rates[cur]*amount)                           # Printing amount*rate for converted amount in USD\n",
        "\n",
        "curConv('EUR', 1000)\n",
        "curConv('JPY', 5000)"
      ],
      "execution_count": null,
      "outputs": [
        {
          "output_type": "stream",
          "text": [
            "1229.6544000000001\n",
            "62.070049999999995\n"
          ],
          "name": "stdout"
        }
      ]
    },
    {
      "cell_type": "markdown",
      "metadata": {
        "id": "ByL-2YJgWEzM"
      },
      "source": [
        "###Question 7\n",
        "#####Each of the following will cause an exception (an error). Identify what type of exception each will cause."
      ]
    },
    {
      "cell_type": "markdown",
      "metadata": {
        "id": "eWscUOU3Cnaw"
      },
      "source": [
        "|Expression|Error|\n",
        "|-----|-----|\n",
        "|6 + ‘a’| Syntax Error|\n",
        "|lst[12]|Index Error|\n",
        "|math.sqrt(-10.0)|Value Error|\n",
        "|print(undef_var)|Name Error|\n",
        "f = open('no_file.txt')|File Not Found Error|"
      ]
    },
    {
      "cell_type": "code",
      "metadata": {
        "id": "tGNpyWoTWHvo"
      },
      "source": [
        "lst = list(range(10))\n",
        "#print(6 + ‘a’)\n",
        "#print(l[12])\n",
        "#print(math.sqrt(-10.0))\n",
        "#print(undef_var)\n",
        "#f = open(\"no_file.txt\")"
      ],
      "execution_count": null,
      "outputs": []
    },
    {
      "cell_type": "markdown",
      "metadata": {
        "id": "5ZNLKuxIYbib"
      },
      "source": [
        "###Question 8\n",
        "#####Encryption is the process of hiding the meaning of a text by substituting letters in the message with other letters, according to some system. If the process is successful, no one but the intended recipient can understand the encrypted message. Cryptanalysis refers to attempts to undo the encryption, even if some details of the encryption are unknown (for example, if an encrypted message has been intercepted). The first step of cryptanalysis is often to build up a table of letter frequencies in the encrypted text. Assume that the string letters is already defined as 'abcdefghijklmnopqrstuvwxyz'. Write a function called frequencies() that takes a string as its only parameter, and returns a list of integers, showing the number of times each character appears in the text. Your function may ignore any characters that are not in letters."
      ]
    },
    {
      "cell_type": "code",
      "metadata": {
        "id": "j-Jp66NGYUf1",
        "outputId": "21d3f065-69ea-474c-f514-38898f85dbb6",
        "colab": {
          "base_uri": "https://localhost:8080/",
          "height": 34
        }
      },
      "source": [
        "def frequencies(string):\n",
        "    letters = 'abcdefghijklmnopqrstuvwxyz'\n",
        "    letters = list(letters)\n",
        "    freq = []                                           # List to store letter counts for each letter\n",
        "\n",
        "    for i in letters:\n",
        "        freq.append(string.count(i))                    # counting and appending count of each letter to string\n",
        "    return freq\n",
        "\n",
        "print(frequencies(\"The quick brown fox jumps over the lazy dog\"))"
      ],
      "execution_count": null,
      "outputs": [
        {
          "output_type": "stream",
          "text": [
            "[1, 1, 1, 1, 3, 1, 1, 2, 1, 1, 1, 1, 1, 1, 4, 1, 1, 2, 1, 1, 2, 1, 1, 1, 1, 1]\n"
          ],
          "name": "stdout"
        }
      ]
    },
    {
      "cell_type": "markdown",
      "metadata": {
        "id": "7DdINT2FbWCb"
      },
      "source": [
        "###Question 9\n",
        "#####The Sieve of Erastophenes is an algorithm -- known to ancient Greeks -- that finds all prime numbers up to a given number n. It does this by first creating a list L from 2 to n and an (initially empty) list primeL. The algorithm then takes the first number in list L (2) and appends it to list primeL, and then removes 2 and all its multiples (4,6,8,10,12, ...) from L. The algorithm then takes the new first number in L (3) and appends it to list primeL, and then removes from L 3 and all its remaining multiples (9,15,21,...). So, in every iteration, the first number of list L is appended to list primeL and then it and its multiples are removed from list L. The iterations stop when list L becomes empty. Write a function sieve() that takes as input a positive integer n, implements the above algorithm, and returns a list of all prime numbers up to n."
      ]
    },
    {
      "cell_type": "code",
      "metadata": {
        "id": "JwkQJ52NbXnk",
        "outputId": "c45e314e-e35a-43de-a09a-9cb6671955c7",
        "colab": {
          "base_uri": "https://localhost:8080/",
          "height": 34
        }
      },
      "source": [
        "def sieve(num):\n",
        "    primeL = []\n",
        "    fs = 0                        # First Number in the numList list\n",
        "    numList = list(range(2,num))  # Generate list of all elements from 2 to n\n",
        "\n",
        "    while(True):\n",
        "        numListTemp = []\n",
        "        primeL.append(numList[0])\n",
        "        fs = numList[0]\n",
        "\n",
        "        for i in numList:\n",
        "            if i%fs == 0:         # Check Divisibility\n",
        "                numListTemp.append(i)\n",
        "        numList = [i for i in numList if i not in numListTemp]      # Get intersection of 2 lists, a way to remove multiples\n",
        "                                                                    # https://stackoverflow.com/questions/4211209/remove-all-the-elements-that-occur-in-one-list-from-another\n",
        "\n",
        "        if len(numList) == 0:     # Run till length of list numList becomes 0\n",
        "            return primeL\n",
        "\n",
        "\n",
        "print(sieve(50))"
      ],
      "execution_count": null,
      "outputs": [
        {
          "output_type": "stream",
          "text": [
            "[2, 3, 5, 7, 11, 13, 17, 19, 23, 29, 31, 37, 41, 43, 47]\n"
          ],
          "name": "stdout"
        }
      ]
    },
    {
      "cell_type": "markdown",
      "metadata": {
        "id": "vNxzDa52sg5e"
      },
      "source": [
        "###Question 10\n",
        "#####Implement function triangleArea(a,b,c) that takes as input the lengths of the 3 sides of a triangle and returns the area of the triangle. By Heron's formula, the area of a triangle with side lengths a, b, and c is\n",
        "\n",
        "#####√(s(s - a)(s -b)(s -c)), where s = (a+b+c)/2."
      ]
    },
    {
      "cell_type": "code",
      "metadata": {
        "id": "ZHfqttEfskPM",
        "outputId": "c57522fa-5421-4b4d-df7b-81925734106a",
        "colab": {
          "base_uri": "https://localhost:8080/",
          "height": 34
        }
      },
      "source": [
        "def triangleArea(a,b,c):\n",
        "    s = (a+b+c)/2                               # Calculating s\n",
        "    area = math.sqrt(s*(s-a)*(s-b)*(s-c))   # Using s to calculate area\n",
        "    return area\n",
        "\n",
        "triangleArea(4,8,5)"
      ],
      "execution_count": null,
      "outputs": [
        {
          "output_type": "execute_result",
          "data": {
            "text/plain": [
              "8.181534085976786"
            ]
          },
          "metadata": {
            "tags": []
          },
          "execution_count": 30
        }
      ]
    }
  ]
}